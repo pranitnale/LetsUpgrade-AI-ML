{
 "cells": [
  {
   "cell_type": "markdown",
   "metadata": {},
   "source": [
    "# Q1"
   ]
  },
  {
   "cell_type": "code",
   "execution_count": 1,
   "metadata": {
    "scrolled": true
   },
   "outputs": [
    {
     "name": "stdout",
     "output_type": "stream",
     "text": [
      "Enter Your Email Idpranit@google,com\n",
      "Company name is :- google "
     ]
    }
   ],
   "source": [
    "ip=input(\"Enter Your Email Id\")\n",
    "if \"@\" in ip:\n",
    "    x=ip.index(\"@\")\n",
    "else:\n",
    "    print(\"Please Enter valid Address(ex :- username@company.com)\")\n",
    "print(\"Company name is :-\",ip[x+1:len(ip)-4],end=' ')"
   ]
  },
  {
   "cell_type": "markdown",
   "metadata": {},
   "source": [
    "# Q2"
   ]
  },
  {
   "cell_type": "code",
   "execution_count": 2,
   "metadata": {},
   "outputs": [
    {
     "name": "stdout",
     "output_type": "stream",
     "text": [
      "Input comma separated sequence of words pranit,chetan,ranjit,sujit,sumeet\n",
      "chetan,pranit,ranjit,sujit,sumeet\n"
     ]
    }
   ],
   "source": [
    "items = input(\"Input comma separated sequence of words \")\n",
    "words = [word for word in items.split(\",\")]\n",
    "print(\",\".join(sorted(list(set(words)))))"
   ]
  },
  {
   "cell_type": "markdown",
   "metadata": {},
   "source": [
    "# Q3"
   ]
  },
  {
   "cell_type": "code",
   "execution_count": 36,
   "metadata": {},
   "outputs": [
    {
     "name": "stdout",
     "output_type": "stream",
     "text": [
      "1 {'cherry', 'banana', 'apple'}\n",
      "2 Set elements are =\n",
      "cherry\n",
      "banana\n",
      "apple\n",
      "3 checking specific element in set\n",
      "True\n",
      "4 Adding element in set\n",
      "{'cherry', 'banana', 'orange', 'apple'}\n",
      "5 updating set\n",
      "{'mango', 'grapes', 'banana', 'orange', 'apple', 'cherry'}\n",
      "6 removing item from set\n",
      "{'mango', 'grapes', 'orange', 'apple', 'cherry'}\n"
     ]
    }
   ],
   "source": [
    "t = {\"apple\", \"banana\", \"cherry\"}\n",
    "print(\"1\",t)\n",
    "print(\"2 Set elements are =\")\n",
    "for x in t:\n",
    "    print(x)\n",
    "print(\"3 checking specific element in set\")\n",
    "print(\"banana\" in t)\n",
    "print(\"4 Adding element in set\")\n",
    "t.add(\"orange\")\n",
    "print(t)\n",
    "print(\"5 updating set\")\n",
    "t.update([\"orange\", \"mango\", \"grapes\"])\n",
    "print(t)\n",
    "print(\"6 removing item from set\")\n",
    "t.remove(\"banana\")\n",
    "print(t)"
   ]
  },
  {
   "cell_type": "markdown",
   "metadata": {},
   "source": [
    "# Q4"
   ]
  },
  {
   "cell_type": "code",
   "execution_count": 26,
   "metadata": {},
   "outputs": [
    {
     "name": "stdout",
     "output_type": "stream",
     "text": [
      "Enter number of elements : 5\n",
      "1\n",
      "2\n",
      "4\n",
      "5\n",
      "6\n",
      "List is [1, 2, 4, 5, 6]\n",
      "3.0\n"
     ]
    }
   ],
   "source": [
    "def getMissingNo(A): \n",
    "    n = len(A) \n",
    "    total = (n + 1)*(n + 2)/2\n",
    "    sum_of_A = sum(A) \n",
    "    return total - sum_of_A\n",
    "\n",
    "A = [] \n",
    "n = int(input(\"Enter number of elements : \")) \n",
    "for i in range(0, n): \n",
    "    ele = int(input()) \n",
    "    A.append(ele)\n",
    "print(\"List is\",A)\n",
    "miss = getMissingNo(A)\n",
    "print(miss)"
   ]
  },
  {
   "cell_type": "code",
   "execution_count": 28,
   "metadata": {},
   "outputs": [
    {
     "name": "stdout",
     "output_type": "stream",
     "text": [
      "Enter number of elements : 6\n",
      "1\n",
      "2\n",
      "2\n",
      "5\n",
      "5\n",
      "3\n",
      "List is [1, 2, 2, 5, 5, 3]\n",
      "{1, 2, 3, 5}\n"
     ]
    }
   ],
   "source": [
    "lst = [] \n",
    "n = int(input(\"Enter number of elements : \")) \n",
    "for i in range(0, n): \n",
    "    ele = int(input()) \n",
    "    lst.append(ele)\n",
    "print(\"List is\",lst)\n",
    "\n",
    "b= set(lst)\n",
    "print(b)"
   ]
  },
  {
   "cell_type": "code",
   "execution_count": null,
   "metadata": {},
   "outputs": [],
   "source": []
  }
 ],
 "metadata": {
  "kernelspec": {
   "display_name": "Python 3",
   "language": "python",
   "name": "python3"
  },
  "language_info": {
   "codemirror_mode": {
    "name": "ipython",
    "version": 3
   },
   "file_extension": ".py",
   "mimetype": "text/x-python",
   "name": "python",
   "nbconvert_exporter": "python",
   "pygments_lexer": "ipython3",
   "version": "3.7.6"
  }
 },
 "nbformat": 4,
 "nbformat_minor": 4
}
